{
 "cells": [
  {
   "cell_type": "code",
   "execution_count": null,
   "metadata": {},
   "outputs": [],
   "source": [
    "dft0 = df.copy()\n",
    "\n",
    "dft1 = dft0.set_index(['time','col']).unstack('col')\n",
    "\n",
    "idx = pd.DataFrameIndex(start=min(dft0.time), end=max(dft0.time), freq='S')\n",
    "\n",
    "dft2 = (pd.DataFrame(dft1, index=idx))\n",
    "\n",
    "dft3 = dft2.ffill().stack()\n",
    "\n",
    "dft4 = dft3.reset_index(level=['col'])\n",
    "\n",
    "dft4['time'] = dft4.index\n",
    "\n",
    "df = dft4.copy()\n",
    "\n",
    "df['time'] = pd.to_datetime(df['time'])\n",
    "\n",
    "df.index = df['time']\n",
    "\n",
    "df = df.sort_index()"
   ]
  }
 ],
 "metadata": {
  "kernelspec": {
   "display_name": "Python 3",
   "language": "python",
   "name": "python3"
  },
  "language_info": {
   "codemirror_mode": {
    "name": "ipython",
    "version": 3
   },
   "file_extension": ".py",
   "mimetype": "text/x-python",
   "name": "python",
   "nbconvert_exporter": "python",
   "pygments_lexer": "ipython3",
   "version": "3.7.3"
  }
 },
 "nbformat": 4,
 "nbformat_minor": 2
}
