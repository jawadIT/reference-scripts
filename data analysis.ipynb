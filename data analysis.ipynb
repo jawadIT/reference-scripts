{
 "cells": [
  {
   "cell_type": "markdown",
   "metadata": {},
   "source": [
    "### NOTEBOOK FOR PROJECT NAME "
   ]
  },
  {
   "cell_type": "markdown",
   "metadata": {},
   "source": [
    "##### get root directory"
   ]
  },
  {
   "cell_type": "code",
   "execution_count": 1,
   "metadata": {},
   "outputs": [
    {
     "name": "stdout",
     "output_type": "stream",
     "text": [
      "C:\\Users\\jawad_zf1uaw5\\reference\n"
     ]
    }
   ],
   "source": [
    "import os\n",
    "owd = os.getcwd() \n",
    "print(owd)"
   ]
  },
  {
   "cell_type": "markdown",
   "metadata": {},
   "source": [
    "##### set work directory to current project and copy package template"
   ]
  },
  {
   "cell_type": "code",
   "execution_count": 2,
   "metadata": {},
   "outputs": [
    {
     "name": "stdout",
     "output_type": "stream",
     "text": [
      "C:\\Users\\jawad_zf1uaw5\\reference\\proj1\n"
     ]
    }
   ],
   "source": [
    "import shutil\n",
    "\n",
    "os.chdir(owd)\n",
    "path = os.getcwd()\n",
    "\n",
    "#path to packages\n",
    "projecttemplate = 'projtemplate' + str('\\\\') +'package'\n",
    "pathtemplate = str(path) + str('\\\\') +str(projecttemplate)\n",
    "\n",
    "#path to current project\n",
    "projectfolder = 'proj1'\n",
    "pathproject = str(path) + str('\\\\') +str(projectfolder)\n",
    "if not os.path.exists(pathproject):\n",
    "    os.makedirs(pathproject)\n",
    "else:\n",
    "    shutil.rmtree(pathproject)\n",
    "    os.makedirs(pathproject)\n",
    "\n",
    "#copy packages to current project\n",
    "try:\n",
    "    shutil.copytree(pathtemplate, pathproject + str('\\\\') +'package')\n",
    "except:\n",
    "    print('error in copy ... package might already exist')\n",
    "\n",
    "#set work directory to current project\n",
    "os.chdir(pathproject)\n",
    "path = os.getcwd()\n",
    "print(path)"
   ]
  },
  {
   "cell_type": "markdown",
   "metadata": {},
   "source": [
    "##### import packages necessary for project"
   ]
  },
  {
   "cell_type": "code",
   "execution_count": 3,
   "metadata": {},
   "outputs": [
    {
     "name": "stderr",
     "output_type": "stream",
     "text": [
      "Using TensorFlow backend.\n",
      "C:\\Users\\jawad_zf1uaw5\\Anaconda3\\lib\\site-packages\\sklearn\\externals\\joblib\\__init__.py:15: DeprecationWarning: sklearn.externals.joblib is deprecated in 0.21 and will be removed in 0.23. Please import this functionality directly from joblib, which can be installed with: pip install joblib. If this warning is raised when loading pickled models, you may need to re-serialize those models with scikit-learn 0.21+.\n",
      "  warnings.warn(msg, category=DeprecationWarning)\n"
     ]
    }
   ],
   "source": [
    "from package.collectandtransform import get_file,check_df_missing,clean_df_missing,plot_freq\n",
    "\n",
    "import pandas as pd\n",
    "import numpy as np\n",
    "    \n",
    "import tensorflow as tf\n",
    "from keras import optimizers, Sequential, regularizers\n",
    "from keras.models import Model\n",
    "from keras.utils import plot_model\n",
    "from keras.layers import Input, Dropout,Dense, LSTM, RepeatVector, TimeDistributed\n",
    "from keras.callbacks import ModelCheckpoint, TensorBoard\n",
    "    \n",
    "from sklearn.preprocessing import StandardScaler,MinMaxScaler,StandardScaler,OneHotEncoder,LabelEncoder\n",
    "from sklearn.compose import ColumnTransformer\n",
    "from sklearn.model_selection import train_test_split\n",
    "from sklearn.metrics import confusion_matrix, precision_recall_curve\n",
    "from sklearn.metrics import recall_score, classification_report, auc, roc_curve\n",
    "from sklearn.metrics import precision_recall_fscore_support, f1_score\n",
    "from sklearn.externals import joblib\n",
    "    \n",
    "import math\n",
    "import statistics\n",
    "from statsmodels.stats.outliers_influence import variance_inflation_factor\n",
    "#import scipy.stats import percentileofscore\n",
    "from collections import Counter\n",
    "from dateutil import tz\n",
    "from patsy import dmatrices\n",
    "import datetime\n",
    "from datetime import timedelta\n",
    "    \n",
    "from pylab import rcParams\n",
    "from numpy.random import seed\n",
    "seed(7)\n",
    "from tensorflow import set_random_seed\n",
    "import tensorflow as tf\n",
    "set_random_seed(11)\n",
    "from sklearn.model_selection import train_test_split\n",
    "\n",
    "import seaborn as sns\n",
    "sns.set(color_codes=True)\n",
    "import matplotlib.pyplot as plt\n",
    "%matplotlib inline\n",
    "\n",
    "SEED = 123 \n",
    "DATA_SPLIT_PCT = 0.2\n",
    "    \n",
    "rcParams['figure.figsize'] = 8, 6\n",
    "LABELS = [\"Normal\",\"Break\"]\n",
    "\n",
    "tf.logging.set_verbosity(tf.logging.ERROR)"
   ]
  },
  {
   "cell_type": "markdown",
   "metadata": {},
   "source": [
    "##### get data in to a dataframe"
   ]
  },
  {
   "cell_type": "code",
   "execution_count": 4,
   "metadata": {},
   "outputs": [
    {
     "name": "stdout",
     "output_type": "stream",
     "text": [
      "                      id   sla  overdue           x            y  type  c1  \\\n",
      "0               1.01E+11  10.0    -8.98  3105443.57  13832598.28   3.0 NaN   \n",
      "1  11682872-101001143202  14.0    -7.79  3047695.62  13826869.96   3.0 NaN   \n",
      "2               1.01E+11  10.0    -8.59  3078170.34  13820368.28   3.0 NaN   \n",
      "3  11594791-101000891316  15.0   -14.89  3041615.31  13820936.90   3.0 NaN   \n",
      "4               1.01E+11   4.0     4.57  3041051.24  13824386.21   3.0 NaN   \n",
      "\n",
      "    c2             timek  \n",
      "0  4.0  12-02-2020 12:56  \n",
      "1  4.0  12-02-2020 12:57  \n",
      "2  4.0  12-02-2020 12:58  \n",
      "3  4.0  12-02-2020 12:59  \n",
      "4  4.0  12-02-2020 13:00  \n"
     ]
    }
   ],
   "source": [
    "path = 'C:\\\\Users\\\\jawad_zf1uaw5\\\\Desktop\\\\data'\n",
    "filename = 'data1.csv'\n",
    "filetype = 'csv'\n",
    "df = get_file(path,filename,filetype)\n",
    "print(df.head())"
   ]
  },
  {
   "cell_type": "markdown",
   "metadata": {},
   "source": [
    "##### set index "
   ]
  },
  {
   "cell_type": "code",
   "execution_count": null,
   "metadata": {},
   "outputs": [],
   "source": [
    "df.index = pd.to_datetime(df.index, format='%Y.%m.%d.%H.%M.%S')\n",
    "df = df.sort_index()"
   ]
  },
  {
   "cell_type": "markdown",
   "metadata": {},
   "source": [
    "##### check data frame for  [columns and row null or missing value analysis]"
   ]
  },
  {
   "cell_type": "code",
   "execution_count": null,
   "metadata": {},
   "outputs": [],
   "source": [
    "df['timek'] = pd.to_datetime(df['timek'])\n",
    "keys = ['id','timek']\n",
    "df.index = df[keys]\n",
    "df_col_info,df_row_info = check_df_missing(df,keys)"
   ]
  },
  {
   "cell_type": "code",
   "execution_count": null,
   "metadata": {},
   "outputs": [],
   "source": [
    "names = list(df_col_info['col'])\n",
    "values = list(df_col_info['null_per'])"
   ]
  },
  {
   "cell_type": "code",
   "execution_count": null,
   "metadata": {},
   "outputs": [],
   "source": [
    "plt.figure(figsize=(30, 4))\n",
    "plt.subplot(131)\n",
    "plt.bar(names, values)\n",
    "plt.title('COLUMNS WITH NULL VALUE IN PERCENTAGE OF OBSERVATIONS')"
   ]
  },
  {
   "cell_type": "code",
   "execution_count": null,
   "metadata": {},
   "outputs": [],
   "source": [
    "print('COLUMNS NULL ANALYSIS : ' )\n",
    "df_col_info.head(100)"
   ]
  },
  {
   "cell_type": "code",
   "execution_count": null,
   "metadata": {},
   "outputs": [],
   "source": [
    "print('NUMBER OF OBSERVATIONS WITH ALL COLUMNS AS NULL : ' + str(df_row_info.shape[0]))"
   ]
  },
  {
   "cell_type": "code",
   "execution_count": null,
   "metadata": {},
   "outputs": [],
   "source": [
    "print('OBSERVATIONS NULL ANALYSIS : ' )\n",
    "df_row_info.head(100)"
   ]
  },
  {
   "cell_type": "code",
   "execution_count": null,
   "metadata": {},
   "outputs": [],
   "source": [
    "print('SHAPE OF DATA BEFORE CLEANING THE MISSING ROWS & COLUMNS FROM NULL ANALYSIS : ' + str(df.shape) )\n",
    "\n",
    "cols_2_drop = list(df_col_info[df_col_info['null_per']>90]['col'])\n",
    "cols_2_drop.append('non_null_count')\n",
    "\n",
    "#drop the rows with all columns as null\n",
    "#df = clean_df_missing(df,df_row_info,cols_2_drop)\n",
    "\n",
    "#fill missing value with forward value\n",
    "df = clean_df_missing(df,pd.DataFrame(),cols_2_drop)\n",
    "\n",
    "print('SHAPE OF DATA AFTER CLEANING THE MISSING ROWS & COLUMNS FROM NULL ANALYSIS  : ' + str(df.shape) )"
   ]
  },
  {
   "cell_type": "code",
   "execution_count": null,
   "metadata": {},
   "outputs": [],
   "source": [
    "for col in df.columns:\n",
    "    print('column : ' + str(col) , ' |   type : ' + str(df[col].dtype))\n",
    "    #print('type : ' + str(df[col].dtype)) "
   ]
  },
  {
   "cell_type": "code",
   "execution_count": null,
   "metadata": {},
   "outputs": [],
   "source": [
    "plt = plot_freq(df,keys)\n",
    "\n",
    "plt.show()"
   ]
  },
  {
   "cell_type": "code",
   "execution_count": null,
   "metadata": {},
   "outputs": [],
   "source": [
    "dftrain,dfval = train_test_split(df[features],test_size=0.2,shuffle=False,stratify=None)"
   ]
  },
  {
   "cell_type": "code",
   "execution_count": null,
   "metadata": {},
   "outputs": [],
   "source": [
    "plt.matshow(df.corr())\n",
    "plt.show()"
   ]
  },
  {
   "cell_type": "code",
   "execution_count": null,
   "metadata": {},
   "outputs": [],
   "source": [
    "corr = df.corr()\n",
    "corr.style.background_gradient(cmap='coolwarm')"
   ]
  },
  {
   "cell_type": "code",
   "execution_count": 5,
   "metadata": {},
   "outputs": [
    {
     "data": {
      "text/plain": [
       "<matplotlib.axes._subplots.AxesSubplot at 0x201496904a8>"
      ]
     },
     "execution_count": 5,
     "metadata": {},
     "output_type": "execute_result"
    },
    {
     "data": {
      "image/png": "[encoded data removed]",
      "text/plain": [
       "<Figure size 432x288 with 2 Axes>"
      ]
     },
     "metadata": {
      "needs_background": "light"
     },
     "output_type": "display_data"
    }
   ],
   "source": [
    "import seaborn as sns\n",
    "corr = df.corr()\n",
    "sns.heatmap(corr, \n",
    "            xticklabels=corr.columns.values,\n",
    "            yticklabels=corr.columns.values)"
   ]
  },
  {
   "cell_type": "code",
   "execution_count": null,
   "metadata": {},
   "outputs": [],
   "source": []
  }
 ],
 "metadata": {
  "kernelspec": {
   "display_name": "Python 3",
   "language": "python",
   "name": "python3"
  },
  "language_info": {
   "codemirror_mode": {
    "name": "ipython",
    "version": 3
   },
   "file_extension": ".py",
   "mimetype": "text/x-python",
   "name": "python",
   "nbconvert_exporter": "python",
   "pygments_lexer": "ipython3",
   "version": "3.7.3"
  }
 },
 "nbformat": 4,
 "nbformat_minor": 2
}
