{
 "cells": [
  {
   "cell_type": "code",
   "execution_count": 1,
   "metadata": {},
   "outputs": [],
   "source": [
    "def scale_dataframe(df,Scaler,cols,func):\n",
    "    scaler = Scaler.fit(df[cols])\n",
    "    df = pd.concat([df,pd.DataFrame(scaler.transform(df[cols]),columns=cols+'_'+func+'_scaled')],axis=1)\n",
    "    return df,scaler"
   ]
  },
  {
   "cell_type": "code",
   "execution_count": 3,
   "metadata": {},
   "outputs": [
    {
     "data": {
      "text/html": [
       "<div>\n",
       "<style scoped>\n",
       "    .dataframe tbody tr th:only-of-type {\n",
       "        vertical-align: middle;\n",
       "    }\n",
       "\n",
       "    .dataframe tbody tr th {\n",
       "        vertical-align: top;\n",
       "    }\n",
       "\n",
       "    .dataframe thead th {\n",
       "        text-align: right;\n",
       "    }\n",
       "</style>\n",
       "<table border=\"1\" class=\"dataframe\">\n",
       "  <thead>\n",
       "    <tr style=\"text-align: right;\">\n",
       "      <th></th>\n",
       "      <th>Name</th>\n",
       "      <th>Age</th>\n",
       "      <th>Salary</th>\n",
       "      <th>Age_minmax_scaled</th>\n",
       "      <th>Salary_minmax_scaled</th>\n",
       "      <th>Age_normalize_scaled</th>\n",
       "      <th>Salary_normalize_scaled</th>\n",
       "      <th>Age_maxabs_scaled</th>\n",
       "      <th>Salary_maxabs_scaled</th>\n",
       "      <th>Age_standard_scaled</th>\n",
       "      <th>Salary_standard_scaled</th>\n",
       "    </tr>\n",
       "  </thead>\n",
       "  <tbody>\n",
       "    <tr>\n",
       "      <th>0</th>\n",
       "      <td>name1</td>\n",
       "      <td>36</td>\n",
       "      <td>125000</td>\n",
       "      <td>1.0</td>\n",
       "      <td>1.0</td>\n",
       "      <td>0.000288</td>\n",
       "      <td>1.0</td>\n",
       "      <td>1.000000</td>\n",
       "      <td>1.0</td>\n",
       "      <td>1.224745</td>\n",
       "      <td>1.224745</td>\n",
       "    </tr>\n",
       "    <tr>\n",
       "      <th>1</th>\n",
       "      <td>name2</td>\n",
       "      <td>28</td>\n",
       "      <td>75000</td>\n",
       "      <td>0.0</td>\n",
       "      <td>0.0</td>\n",
       "      <td>0.000373</td>\n",
       "      <td>1.0</td>\n",
       "      <td>0.777778</td>\n",
       "      <td>0.6</td>\n",
       "      <td>-1.224745</td>\n",
       "      <td>-1.224745</td>\n",
       "    </tr>\n",
       "    <tr>\n",
       "      <th>2</th>\n",
       "      <td>name3</td>\n",
       "      <td>32</td>\n",
       "      <td>100000</td>\n",
       "      <td>0.5</td>\n",
       "      <td>0.5</td>\n",
       "      <td>0.000320</td>\n",
       "      <td>1.0</td>\n",
       "      <td>0.888889</td>\n",
       "      <td>0.8</td>\n",
       "      <td>0.000000</td>\n",
       "      <td>0.000000</td>\n",
       "    </tr>\n",
       "  </tbody>\n",
       "</table>\n",
       "</div>"
      ],
      "text/plain": [
       "    Name  Age  Salary  Age_minmax_scaled  Salary_minmax_scaled  \\\n",
       "0  name1   36  125000                1.0                   1.0   \n",
       "1  name2   28   75000                0.0                   0.0   \n",
       "2  name3   32  100000                0.5                   0.5   \n",
       "\n",
       "   Age_normalize_scaled  Salary_normalize_scaled  Age_maxabs_scaled  \\\n",
       "0              0.000288                      1.0           1.000000   \n",
       "1              0.000373                      1.0           0.777778   \n",
       "2              0.000320                      1.0           0.888889   \n",
       "\n",
       "   Salary_maxabs_scaled  Age_standard_scaled  Salary_standard_scaled  \n",
       "0                   1.0             1.224745                1.224745  \n",
       "1                   0.6            -1.224745               -1.224745  \n",
       "2                   0.8             0.000000                0.000000  "
      ]
     },
     "execution_count": 3,
     "metadata": {},
     "output_type": "execute_result"
    }
   ],
   "source": [
    "import pandas as pd\n",
    "\n",
    "data = [['name1',36,125000],['name2',28,75000],['name3',32,100000]]\n",
    "df = pd.DataFrame(data, columns = ['Name','Age','Salary'])\n",
    "\n",
    "#transform the given distribution to a distribution with mean 0 and standard deviation as 1\n",
    "#tranform the given data between the range of 0 and 1 based on the min and max values of given input range\n",
    "#tranform the given data between the range of -1 and 1 by dividing the value with maximum value\n",
    "\n",
    "\n",
    "from sklearn.preprocessing import StandardScaler,MinMaxScaler,MaxAbsScaler,Normalizer\n",
    "\n",
    "cols = df.select_dtypes(include=['float64','int64','int']).columns\n",
    "df,scaler = scale_dataframe(df,MinMaxScaler(),cols,'minmax')\n",
    "df,scaler = scale_dataframe(df,Normalizer(),cols,'normalize')\n",
    "df,scaler = scale_dataframe(df,MaxAbsScaler(),cols,'maxabs')\n",
    "df,scaler = scale_dataframe(df,StandardScaler(),cols,'standard')\n",
    "df.head()"
   ]
  },
  {
   "cell_type": "code",
   "execution_count": 4,
   "metadata": {},
   "outputs": [
    {
     "name": "stdout",
     "output_type": "stream",
     "text": [
      "[[3.60e+01 1.25e+05]\n",
      " [2.80e+01 7.50e+04]\n",
      " [3.20e+01 1.00e+05]]\n"
     ]
    }
   ],
   "source": [
    "print(scaler.inverse_transform(df[cols+'_standard_scaled']))"
   ]
  },
  {
   "cell_type": "code",
   "execution_count": null,
   "metadata": {},
   "outputs": [],
   "source": []
  }
 ],
 "metadata": {
  "kernelspec": {
   "display_name": "Python 3",
   "language": "python",
   "name": "python3"
  },
  "language_info": {
   "codemirror_mode": {
    "name": "ipython",
    "version": 3
   },
   "file_extension": ".py",
   "mimetype": "text/x-python",
   "name": "python",
   "nbconvert_exporter": "python",
   "pygments_lexer": "ipython3",
   "version": "3.7.3"
  }
 },
 "nbformat": 4,
 "nbformat_minor": 2
}
